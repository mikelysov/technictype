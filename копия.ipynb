{
  "cells": [
    {
      "cell_type": "code",
      "execution_count": 24,
      "metadata": {},
      "outputs": [],
      "source": [
        "from keras.models import Model\n",
        "from keras.layers import Input, Conv2D, AveragePooling2D, GlobalAveragePooling2D, BatchNormalization, ReLU, Add, Dense, Flatten, Concatenate\n",
        "from keras.optimizers import Adam, RMSprop\n",
        "from keras.utils import load_img, img_to_array, to_categorical, plot_model\n",
        "from keras.regularizers import L1L2\n",
        "\n",
        "import numpy as np\n",
        "import pandas as pd\n",
        "import os\n"
      ]
    },
    {
      "cell_type": "code",
      "execution_count": 2,
      "metadata": {},
      "outputs": [],
      "source": [
        "DIR_TRAIN = \"./train/\"\n",
        "DIR_TEST = \"./test/\"\n",
        "\n",
        "PATH_TRAIN = \"./train.csv\"\n",
        "PATH_TEST = \"./test.csv\""
      ]
    },
    {
      "cell_type": "code",
      "execution_count": 3,
      "metadata": {},
      "outputs": [],
      "source": [
        "data = pd.read_csv(PATH_TRAIN, delimiter=',', header=0)\n",
        "data.head()\n",
        "\n",
        "num_classes = int(data['class'].max()) + 1"
      ]
    },
    {
      "cell_type": "code",
      "execution_count": 4,
      "metadata": {},
      "outputs": [],
      "source": [
        "import shutil\n",
        "\n",
        "DIR_VAL = \"./val/\"\n",
        "\n",
        "def data_for_dataset():\n",
        "    \n",
        "    for i in range(num_classes):\n",
        "        dir = os.path.join(DIR_TRAIN, str(i))\n",
        "        if not os.path.exists(dir):\n",
        "            os.mkdir(dir)\n",
        "        for f in data[data['class']==i].values:\n",
        "            fn = os.path.join(dir, f[0])\n",
        "            if not os.path.exists(fn):\n",
        "                shutil.move(os.path.join(DIR_TRAIN, f[0]), fn)\n",
        "    \n",
        "    if not os.path.exists(DIR_VAL):\n",
        "        os.mkdir(DIR_VAL)\n",
        "    for i in range(num_classes):\n",
        "        dir = os.path.join(DIR_VAL, str(i))\n",
        "        if not os.path.exists(dir):\n",
        "            os.mkdir(dir)\n",
        "        ls = sorted(os.listdir(os.path.join(DIR_TRAIN, str(i))))\n",
        "        for j in range(len(ls)//10):\n",
        "            ffrom = os.path.join(DIR_TRAIN, str(i), ls[j])\n",
        "            fto = os.path.join(DIR_VAL, str(i), ls[j])\n",
        "            if os.path.exists(ffrom) and not os.path.exists(fto):\n",
        "                shutil.move(ffrom, fto)\n",
        "\n",
        "#data_for_dataset()\n"
      ]
    },
    {
      "cell_type": "code",
      "execution_count": 5,
      "metadata": {},
      "outputs": [
        {
          "name": "stdout",
          "output_type": "stream",
          "text": [
            "(4990, 128, 128, 3) (4990, 8)\n"
          ]
        }
      ],
      "source": [
        "shape = (128, 128)\n",
        "xtrain = np.array([img_to_array(load_img(os.path.join(DIR_TRAIN, s), color_mode='rgb', target_size=shape, keep_aspect_ratio=True)) for s in data.ID_img]) / 255.\n",
        "ytrain = np.array([to_categorical(s, num_classes=num_classes) for s in data['class']])\n",
        "\n",
        "#xtrain, xtest, ytrain, ytest = train_test_split(xtrain, ytrain, test_size=.1)\n",
        "#print(xtrain.shape, xtest.shape, ytrain.shape, ytest.shape)\n",
        "print(xtrain.shape, ytrain.shape)"
      ]
    },
    {
      "cell_type": "code",
      "execution_count": 6,
      "metadata": {},
      "outputs": [],
      "source": [
        "from keras.preprocessing.image import ImageDataGenerator\n",
        "\n",
        "datagen = ImageDataGenerator(featurewise_center=True,\n",
        "    rotation_range=20,\n",
        "    width_shift_range=0.2,\n",
        "    height_shift_range=0.2,\n",
        "    horizontal_flip=True,\n",
        "    validation_split=0.1)\n",
        "datagen.fit(xtrain)"
      ]
    },
    {
      "cell_type": "code",
      "execution_count": 26,
      "metadata": {},
      "outputs": [],
      "source": [
        "def model1():\n",
        "    l1l2 = L1L2(l1=1e-5, l2=1e-4)\n",
        "    \n",
        "    inp = Input(shape=(128, 128, 3))\n",
        "\n",
        "    x = Conv2D(8, 3, padding='valid', kernel_regularizer=l1l2)(inp)\n",
        "    x = BatchNormalization()(x)\n",
        "    x = ReLU()(x)\n",
        "\n",
        "    for k in [16, 32, 64, 128, 256]:\n",
        "        for i in range(3):\n",
        "            y = Conv2D(k, 3, padding='same', kernel_regularizer=l1l2)(x)\n",
        "            y = BatchNormalization()(y)\n",
        "            y = ReLU()(y)\n",
        "            y = Conv2D(k, 3, padding='same', kernel_regularizer=l1l2)(y)\n",
        "            if i == 2:\n",
        "                y = AveragePooling2D(2)(y)\n",
        "            \n",
        "            x = Conv2D(k, 1, padding='same', kernel_regularizer=l1l2)(x)\n",
        "            if i == 2:\n",
        "                x = AveragePooling2D(2)(x)\n",
        "            \n",
        "            x = Add()([x,y])\n",
        "            x = BatchNormalization()(x)\n",
        "            x = ReLU()(x)\n",
        "    \n",
        "    x = Conv2D(512, 3, padding='valid', kernel_regularizer=l1l2)(x)\n",
        "    x = BatchNormalization()(x)\n",
        "    x = ReLU()(x)\n",
        "    x = Flatten()(x)\n",
        "\n",
        "    x = Dense(512, kernel_regularizer=l1l2)(x)\n",
        "    x = BatchNormalization()(x)\n",
        "    x = ReLU()(x)\n",
        "\n",
        "    x = Dense(num_classes, activation='softmax')(x)\n",
        "\n",
        "    model = Model(inp, x)\n",
        "    model.compile(optimizer=RMSprop(learning_rate=1e-4), loss='categorical_crossentropy', metrics='accuracy')\n",
        "\n",
        "    return model, './ulite.h5'\n",
        "\n",
        "model, path_weights = model1()\n",
        "#plot_model(model, show_layer_names=True, show_shapes=True, dpi=64)\n"
      ]
    },
    {
      "cell_type": "code",
      "execution_count": 27,
      "metadata": {},
      "outputs": [],
      "source": [
        "def model2():\n",
        "    inp = Input(shape=(128, 128, 3))\n",
        "    x = BatchNormalization()(inp)\n",
        "\n",
        "    for k in [64, 128]:\n",
        "        #x = Conv2D(k, 3, padding='valid')(x)\n",
        "        #x = BatchNormalization()(x)\n",
        "        #x = ReLU()(x)\n",
        "        x = Conv2D(k, 3, strides=2, padding='valid')(x)\n",
        "        x = BatchNormalization()(x)\n",
        "        x = ReLU()(x)\n",
        "\n",
        "    a = []\n",
        "    for i in range(16):\n",
        "        y = Conv2D(16, 9, padding='valid')(x)\n",
        "        y = BatchNormalization()(y)\n",
        "        y = ReLU()(y)\n",
        "        y = Conv2D(16, 9, strides=2, padding='valid')(y)\n",
        "        a.append(y)\n",
        "    \n",
        "    x = Concatenate()(a)\n",
        "    x = BatchNormalization()(x)\n",
        "    x = ReLU()(x)\n",
        "\n",
        "    x = Conv2D(512, 3, padding='valid')(x)\n",
        "    x = BatchNormalization()(x)\n",
        "    x = ReLU()(x)\n",
        "    \n",
        "    #x = Flatten()(x)\n",
        "    x = GlobalAveragePooling2D()(x)\n",
        "\n",
        "    x = Dense(512)(x)\n",
        "    x = BatchNormalization()(x)\n",
        "    x = ReLU()(x)\n",
        "\n",
        "    x = Dense(num_classes, activation='softmax')(x)\n",
        "\n",
        "    model = Model(inp, x)\n",
        "    model.compile(optimizer=RMSprop(learning_rate=1e-4), loss='categorical_crossentropy', metrics='accuracy')\n",
        "\n",
        "    return model, './ulite2.h5'\n",
        "\n",
        "#plot_model(model, show_layer_names=True, show_shapes=True, dpi=64)\n"
      ]
    },
    {
      "cell_type": "code",
      "execution_count": 30,
      "metadata": {},
      "outputs": [],
      "source": [
        "from keras.callbacks import EarlyStopping, ModelCheckpoint, ReduceLROnPlateau\n",
        "\n",
        "model, path_weights = model1()\n",
        "\n",
        "es = EarlyStopping(patience=10, verbose=1, restore_best_weights=True)\n",
        "mcp = ModelCheckpoint(path_weights, mode='min', save_best_only=True, save_weights_only=True)\n",
        "rop = ReduceLROnPlateau(patience=8, min_lr=1e-10, verbose=1)\n"
      ]
    },
    {
      "cell_type": "code",
      "execution_count": 31,
      "metadata": {},
      "outputs": [
        {
          "name": "stdout",
          "output_type": "stream",
          "text": [
            "Epoch 1/100\n",
            "45/45 [==============================] - 26s 423ms/step - loss: 3.6169 - accuracy: 0.4048 - val_loss: 3.8209 - val_accuracy: 0.2365 - lr: 1.0000e-04\n",
            "Epoch 2/100\n",
            "45/45 [==============================] - 18s 405ms/step - loss: 3.2187 - accuracy: 0.5320 - val_loss: 3.7771 - val_accuracy: 0.1703 - lr: 1.0000e-04\n",
            "Epoch 3/100\n",
            "45/45 [==============================] - 19s 408ms/step - loss: 3.0134 - accuracy: 0.6072 - val_loss: 3.7417 - val_accuracy: 0.2064 - lr: 1.0000e-04\n",
            "Epoch 4/100\n",
            "45/45 [==============================] - 19s 409ms/step - loss: 2.8599 - accuracy: 0.6515 - val_loss: 3.6731 - val_accuracy: 0.3226 - lr: 1.0000e-04\n",
            "Epoch 5/100\n",
            "45/45 [==============================] - 18s 407ms/step - loss: 2.7547 - accuracy: 0.6941 - val_loss: 3.6812 - val_accuracy: 0.3848 - lr: 1.0000e-04\n",
            "Epoch 6/100\n",
            "45/45 [==============================] - 19s 409ms/step - loss: 2.6754 - accuracy: 0.7154 - val_loss: 3.7534 - val_accuracy: 0.3547 - lr: 1.0000e-04\n",
            "Epoch 7/100\n",
            "45/45 [==============================] - 19s 410ms/step - loss: 2.6027 - accuracy: 0.7350 - val_loss: 3.9461 - val_accuracy: 0.2846 - lr: 1.0000e-04\n",
            "Epoch 8/100\n",
            "45/45 [==============================] - 19s 415ms/step - loss: 2.5402 - accuracy: 0.7553 - val_loss: 3.3357 - val_accuracy: 0.5351 - lr: 1.0000e-04\n",
            "Epoch 9/100\n",
            "45/45 [==============================] - 19s 411ms/step - loss: 2.4910 - accuracy: 0.7695 - val_loss: 3.3678 - val_accuracy: 0.5551 - lr: 1.0000e-04\n",
            "Epoch 10/100\n",
            "45/45 [==============================] - 19s 416ms/step - loss: 2.4566 - accuracy: 0.7740 - val_loss: 3.2240 - val_accuracy: 0.6072 - lr: 1.0000e-04\n",
            "Epoch 11/100\n",
            "45/45 [==============================] - 19s 416ms/step - loss: 2.4070 - accuracy: 0.7900 - val_loss: 2.8729 - val_accuracy: 0.7134 - lr: 1.0000e-04\n",
            "Epoch 12/100\n",
            "45/45 [==============================] - 19s 416ms/step - loss: 2.3743 - accuracy: 0.8041 - val_loss: 2.7768 - val_accuracy: 0.7154 - lr: 1.0000e-04\n",
            "Epoch 13/100\n",
            "45/45 [==============================] - 19s 417ms/step - loss: 2.3463 - accuracy: 0.8161 - val_loss: 2.6644 - val_accuracy: 0.7675 - lr: 1.0000e-04\n",
            "Epoch 14/100\n",
            "45/45 [==============================] - 19s 414ms/step - loss: 2.3249 - accuracy: 0.8201 - val_loss: 2.6728 - val_accuracy: 0.7315 - lr: 1.0000e-04\n",
            "Epoch 15/100\n",
            "45/45 [==============================] - 19s 419ms/step - loss: 2.2838 - accuracy: 0.8297 - val_loss: 2.6233 - val_accuracy: 0.7275 - lr: 1.0000e-04\n",
            "Epoch 16/100\n",
            "45/45 [==============================] - 19s 419ms/step - loss: 2.2363 - accuracy: 0.8488 - val_loss: 2.4851 - val_accuracy: 0.7816 - lr: 1.0000e-04\n",
            "Epoch 17/100\n",
            "45/45 [==============================] - 19s 415ms/step - loss: 2.2343 - accuracy: 0.8457 - val_loss: 2.5335 - val_accuracy: 0.7836 - lr: 1.0000e-04\n",
            "Epoch 18/100\n",
            "45/45 [==============================] - 19s 415ms/step - loss: 2.1989 - accuracy: 0.8640 - val_loss: 2.8427 - val_accuracy: 0.7275 - lr: 1.0000e-04\n",
            "Epoch 19/100\n",
            "45/45 [==============================] - 19s 420ms/step - loss: 2.1672 - accuracy: 0.8702 - val_loss: 2.4582 - val_accuracy: 0.7836 - lr: 1.0000e-04\n",
            "Epoch 20/100\n",
            "45/45 [==============================] - 19s 416ms/step - loss: 2.1657 - accuracy: 0.8691 - val_loss: 2.5492 - val_accuracy: 0.7535 - lr: 1.0000e-04\n",
            "Epoch 21/100\n",
            "45/45 [==============================] - 19s 421ms/step - loss: 2.1195 - accuracy: 0.8800 - val_loss: 2.3179 - val_accuracy: 0.8236 - lr: 1.0000e-04\n",
            "Epoch 22/100\n",
            "45/45 [==============================] - 19s 417ms/step - loss: 2.1066 - accuracy: 0.8833 - val_loss: 2.7789 - val_accuracy: 0.7355 - lr: 1.0000e-04\n",
            "Epoch 23/100\n",
            "45/45 [==============================] - 19s 418ms/step - loss: 2.0871 - accuracy: 0.8902 - val_loss: 2.3450 - val_accuracy: 0.8377 - lr: 1.0000e-04\n",
            "Epoch 24/100\n",
            "45/45 [==============================] - 19s 418ms/step - loss: 2.0591 - accuracy: 0.8969 - val_loss: 2.4363 - val_accuracy: 0.8016 - lr: 1.0000e-04\n",
            "Epoch 25/100\n",
            "45/45 [==============================] - 19s 417ms/step - loss: 2.0458 - accuracy: 0.9038 - val_loss: 2.4384 - val_accuracy: 0.8136 - lr: 1.0000e-04\n",
            "Epoch 26/100\n",
            "45/45 [==============================] - 19s 422ms/step - loss: 2.0357 - accuracy: 0.9054 - val_loss: 2.3109 - val_accuracy: 0.8337 - lr: 1.0000e-04\n",
            "Epoch 27/100\n",
            "45/45 [==============================] - 19s 418ms/step - loss: 2.0319 - accuracy: 0.9049 - val_loss: 2.3167 - val_accuracy: 0.8357 - lr: 1.0000e-04\n",
            "Epoch 28/100\n",
            "45/45 [==============================] - 19s 418ms/step - loss: 2.0099 - accuracy: 0.9069 - val_loss: 2.3535 - val_accuracy: 0.8337 - lr: 1.0000e-04\n",
            "Epoch 29/100\n",
            "45/45 [==============================] - 19s 420ms/step - loss: 2.0151 - accuracy: 0.9054 - val_loss: 2.3974 - val_accuracy: 0.8196 - lr: 1.0000e-04\n",
            "Epoch 30/100\n",
            "45/45 [==============================] - 19s 420ms/step - loss: 1.9924 - accuracy: 0.9098 - val_loss: 2.3118 - val_accuracy: 0.8337 - lr: 1.0000e-04\n",
            "Epoch 31/100\n",
            "45/45 [==============================] - 19s 419ms/step - loss: 1.9644 - accuracy: 0.9223 - val_loss: 2.3419 - val_accuracy: 0.8196 - lr: 1.0000e-04\n",
            "Epoch 32/100\n"
          ]
        }
      ],
      "source": [
        "if not os.path.exists(path_weights):\n",
        "    model.load_weights(path_weights)\n",
        "history = model.fit(datagen.flow(xtrain, ytrain, batch_size=100, subset='training'), epochs=100, verbose=1, validation_data=datagen.flow(xtrain, ytrain, batch_size=100, subset='validation'), callbacks=[es, mcp, rop])"
      ]
    },
    {
      "cell_type": "code",
      "execution_count": null,
      "metadata": {},
      "outputs": [
        {
          "name": "stdout",
          "output_type": "stream",
          "text": [
            "25/25 [==============================] - 1s 45ms/step - loss: 0.3275 - accuracy: 0.8838\n"
          ]
        },
        {
          "data": {
            "text/plain": [
              "[0.32751113176345825, 0.8837675452232361]"
            ]
          },
          "execution_count": 18,
          "metadata": {},
          "output_type": "execute_result"
        }
      ],
      "source": [
        "#model.load_weights(path_weights)\n",
        "model.evaluate(datagen.flow(xtrain, ytrain, batch_size=20, subset='validation'))"
      ]
    },
    {
      "cell_type": "code",
      "execution_count": null,
      "metadata": {},
      "outputs": [
        {
          "data": {
            "text/html": [
              "<div>\n",
              "<style scoped>\n",
              "    .dataframe tbody tr th:only-of-type {\n",
              "        vertical-align: middle;\n",
              "    }\n",
              "\n",
              "    .dataframe tbody tr th {\n",
              "        vertical-align: top;\n",
              "    }\n",
              "\n",
              "    .dataframe thead th {\n",
              "        text-align: right;\n",
              "    }\n",
              "</style>\n",
              "<table border=\"1\" class=\"dataframe\">\n",
              "  <thead>\n",
              "    <tr style=\"text-align: right;\">\n",
              "      <th></th>\n",
              "      <th>ID_img</th>\n",
              "      <th>class</th>\n",
              "    </tr>\n",
              "  </thead>\n",
              "  <tbody>\n",
              "    <tr>\n",
              "      <th>0</th>\n",
              "      <td>0.jpg</td>\n",
              "      <td>0</td>\n",
              "    </tr>\n",
              "    <tr>\n",
              "      <th>1</th>\n",
              "      <td>1.jpg</td>\n",
              "      <td>0</td>\n",
              "    </tr>\n",
              "    <tr>\n",
              "      <th>2</th>\n",
              "      <td>2.jpg</td>\n",
              "      <td>0</td>\n",
              "    </tr>\n",
              "    <tr>\n",
              "      <th>3</th>\n",
              "      <td>3.jpg</td>\n",
              "      <td>0</td>\n",
              "    </tr>\n",
              "    <tr>\n",
              "      <th>4</th>\n",
              "      <td>4.jpg</td>\n",
              "      <td>0</td>\n",
              "    </tr>\n",
              "  </tbody>\n",
              "</table>\n",
              "</div>"
            ],
            "text/plain": [
              "  ID_img  class\n",
              "0  0.jpg      0\n",
              "1  1.jpg      0\n",
              "2  2.jpg      0\n",
              "3  3.jpg      0\n",
              "4  4.jpg      0"
            ]
          },
          "execution_count": 19,
          "metadata": {},
          "output_type": "execute_result"
        }
      ],
      "source": [
        "data = pd.read_csv(PATH_TEST, delimiter=',', header=0)\n",
        "data.head()"
      ]
    },
    {
      "cell_type": "code",
      "execution_count": null,
      "metadata": {},
      "outputs": [],
      "source": [
        "xval = np.array([img_to_array(load_img(os.path.join(DIR_TEST, s), color_mode='rgb', target_size=shape, keep_aspect_ratio=True)) for s in data.ID_img]) / 255."
      ]
    },
    {
      "cell_type": "code",
      "execution_count": null,
      "metadata": {},
      "outputs": [
        {
          "name": "stdout",
          "output_type": "stream",
          "text": [
            "67/67 [==============================] - 3s 39ms/step\n"
          ]
        }
      ],
      "source": [
        "pred = model.predict(xval)\n",
        "pred = [np.argmax(i) for i in pred]"
      ]
    },
    {
      "cell_type": "code",
      "execution_count": null,
      "metadata": {},
      "outputs": [
        {
          "data": {
            "text/html": [
              "<div>\n",
              "<style scoped>\n",
              "    .dataframe tbody tr th:only-of-type {\n",
              "        vertical-align: middle;\n",
              "    }\n",
              "\n",
              "    .dataframe tbody tr th {\n",
              "        vertical-align: top;\n",
              "    }\n",
              "\n",
              "    .dataframe thead th {\n",
              "        text-align: right;\n",
              "    }\n",
              "</style>\n",
              "<table border=\"1\" class=\"dataframe\">\n",
              "  <thead>\n",
              "    <tr style=\"text-align: right;\">\n",
              "      <th></th>\n",
              "      <th>ID_img</th>\n",
              "      <th>class</th>\n",
              "    </tr>\n",
              "  </thead>\n",
              "  <tbody>\n",
              "    <tr>\n",
              "      <th>0</th>\n",
              "      <td>0.jpg</td>\n",
              "      <td>5</td>\n",
              "    </tr>\n",
              "    <tr>\n",
              "      <th>1</th>\n",
              "      <td>1.jpg</td>\n",
              "      <td>2</td>\n",
              "    </tr>\n",
              "    <tr>\n",
              "      <th>2</th>\n",
              "      <td>2.jpg</td>\n",
              "      <td>1</td>\n",
              "    </tr>\n",
              "    <tr>\n",
              "      <th>3</th>\n",
              "      <td>3.jpg</td>\n",
              "      <td>3</td>\n",
              "    </tr>\n",
              "    <tr>\n",
              "      <th>4</th>\n",
              "      <td>4.jpg</td>\n",
              "      <td>4</td>\n",
              "    </tr>\n",
              "  </tbody>\n",
              "</table>\n",
              "</div>"
            ],
            "text/plain": [
              "  ID_img  class\n",
              "0  0.jpg      5\n",
              "1  1.jpg      2\n",
              "2  2.jpg      1\n",
              "3  3.jpg      3\n",
              "4  4.jpg      4"
            ]
          },
          "execution_count": 22,
          "metadata": {},
          "output_type": "execute_result"
        }
      ],
      "source": [
        "del(data['class'])\n",
        "data['class'] = pred\n",
        "data.head()"
      ]
    },
    {
      "cell_type": "code",
      "execution_count": null,
      "metadata": {},
      "outputs": [],
      "source": [
        "data.to_csv('./submit.csv', index=False)"
      ]
    }
  ],
  "metadata": {
    "accelerator": "GPU",
    "colab": {
      "provenance": []
    },
    "kernelspec": {
      "display_name": "Python 3.10.6 64-bit",
      "language": "python",
      "name": "python3"
    },
    "language_info": {
      "codemirror_mode": {
        "name": "ipython",
        "version": 3
      },
      "file_extension": ".py",
      "mimetype": "text/x-python",
      "name": "python",
      "nbconvert_exporter": "python",
      "pygments_lexer": "ipython3",
      "version": "3.10.6"
    },
    "vscode": {
      "interpreter": {
        "hash": "52634da84371cba311ea128a5ea7cdc41ff074b781779e754b270ff9f8153cee"
      }
    }
  },
  "nbformat": 4,
  "nbformat_minor": 0
}
