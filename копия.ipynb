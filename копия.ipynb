{
  "cells": [
    {
      "cell_type": "code",
      "execution_count": 1,
      "metadata": {},
      "outputs": [],
      "source": [
        "from keras.models import Model, load_model\n",
        "from keras.layers import Input, Conv2D, AveragePooling2D, MaxPooling2D, GlobalAveragePooling2D, GlobalMaxPooling2D, BatchNormalization\n",
        "from keras.layers import ReLU, Add, Dense, Flatten, Concatenate, ZeroPadding2D, SeparableConv2D\n",
        "from keras.losses import BinaryCrossentropy, CategoricalCrossentropy\n",
        "#from keras.layers import RandomFlip, RandomRotation, RandomZoom, AutoContrast\n",
        "from keras_cv.layers import RandomFlip, RandomRotation, RandomZoom, AutoContrast\n",
        "from keras.optimizers import Adam, RMSprop\n",
        "from keras.utils import load_img, img_to_array, to_categorical, plot_model\n",
        "from keras.regularizers import L1L2\n",
        "from keras.callbacks import EarlyStopping, ModelCheckpoint, ReduceLROnPlateau\n",
        "from keras.applications import Xception\n",
        "\n",
        "import numpy as np\n",
        "import pandas as pd\n",
        "import os\n",
        "from sklearn.model_selection import train_test_split"
      ]
    },
    {
      "cell_type": "code",
      "execution_count": 2,
      "metadata": {},
      "outputs": [],
      "source": [
        "DIR_TRAIN = \"./train/\"\n",
        "DIR_TEST = \"./test/\"\n",
        "\n",
        "PATH_TRAIN = \"./train.csv\"\n",
        "PATH_TEST = \"./test.csv\""
      ]
    },
    {
      "cell_type": "code",
      "execution_count": 3,
      "metadata": {},
      "outputs": [],
      "source": [
        "data = pd.read_csv(PATH_TRAIN, delimiter=',', header=0)\n",
        "data.head()\n",
        "\n",
        "num_classes = int(data['class'].max()) + 1"
      ]
    },
    {
      "cell_type": "code",
      "execution_count": 4,
      "metadata": {},
      "outputs": [],
      "source": [
        "import shutil\n",
        "\n",
        "DIR_VAL = \"./val/\"\n",
        "\n",
        "def data_for_dataset():\n",
        "    \n",
        "    for i in range(num_classes):\n",
        "        dir = os.path.join(DIR_TRAIN, str(i))\n",
        "        if not os.path.exists(dir):\n",
        "            os.mkdir(dir)\n",
        "        for f in data[data['class']==i].values:\n",
        "            fn = os.path.join(dir, f[0])\n",
        "            if not os.path.exists(fn):\n",
        "                shutil.move(os.path.join(DIR_TRAIN, f[0]), fn)\n",
        "    \n",
        "    if not os.path.exists(DIR_VAL):\n",
        "        os.mkdir(DIR_VAL)\n",
        "    for i in range(num_classes):\n",
        "        dir = os.path.join(DIR_VAL, str(i))\n",
        "        if not os.path.exists(dir):\n",
        "            os.mkdir(dir)\n",
        "        ls = sorted(os.listdir(os.path.join(DIR_TRAIN, str(i))))\n",
        "        for j in range(len(ls)//10):\n",
        "            ffrom = os.path.join(DIR_TRAIN, str(i), ls[j])\n",
        "            fto = os.path.join(DIR_VAL, str(i), ls[j])\n",
        "            if os.path.exists(ffrom) and not os.path.exists(fto):\n",
        "                shutil.move(ffrom, fto)\n",
        "\n",
        "#data_for_dataset()\n"
      ]
    },
    {
      "cell_type": "code",
      "execution_count": 5,
      "metadata": {},
      "outputs": [
        {
          "name": "stdout",
          "output_type": "stream",
          "text": [
            "(4491, 128, 128, 3) (499, 128, 128, 3) (4491, 8) (499, 8)\n"
          ]
        }
      ],
      "source": [
        "kshape = 128\n",
        "shape = (kshape, kshape)\n",
        "xtrain = np.array([img_to_array(load_img(os.path.join(DIR_TRAIN, s), color_mode='rgb', target_size=shape, keep_aspect_ratio=True)) for s in data.ID_img]) / 255.\n",
        "ytrain = np.array([to_categorical(s, num_classes=num_classes) for s in data['class']])\n",
        "#ytrain = np.array([int(s) for s in data['class']])\n",
        "\n",
        "xtrain, xtest, ytrain, ytest = train_test_split(xtrain, ytrain, test_size=.1)\n",
        "print(xtrain.shape, xtest.shape, ytrain.shape, ytest.shape)\n",
        "#print(xtrain.shape, ytrain.shape)"
      ]
    },
    {
      "cell_type": "code",
      "execution_count": 6,
      "metadata": {},
      "outputs": [],
      "source": [
        "#from keras.preprocessing.image import ImageDataGenerator\n",
        "\n",
        "#datagen = ImageDataGenerator(featurewise_center=True, rotation_range=20, width_shift_range=0.2, height_shift_range=0.2, validation_split=0.1)#horizontal_flip=True\n",
        "#datagen.fit(xtrain)"
      ]
    },
    {
      "cell_type": "code",
      "execution_count": 7,
      "metadata": {},
      "outputs": [],
      "source": [
        "def model1():\n",
        "    l1l2 = L1L2(l1=1e-5, l2=1e-5)\n",
        "    #, kernel_regularizer=l1l2\n",
        "    \n",
        "    inp = Input(shape=(kshape, kshape, 3))\n",
        "\n",
        "    x = Conv2D(8, 3, padding='valid', kernel_regularizer=l1l2)(inp)\n",
        "    x = BatchNormalization()(x)\n",
        "    x = ReLU()(x)\n",
        "\n",
        "    for k, n in zip([16, 32, 64, 128, 256], [2,2,3,3,3]):\n",
        "        for i in range(n):\n",
        "            y = Conv2D(k, 3, padding='same', kernel_regularizer=l1l2)(x)\n",
        "            y = BatchNormalization()(y)\n",
        "            y = ReLU()(y)\n",
        "            y = Conv2D(k, 3, padding='same', kernel_regularizer=l1l2)(y)\n",
        "            \n",
        "            x = Conv2D(k, 1, padding='same', kernel_regularizer=l1l2)(x)\n",
        "            \n",
        "            if i == n-1:\n",
        "                y = MaxPooling2D(2)(y)\n",
        "                x = MaxPooling2D(2)(x)\n",
        "            \n",
        "            x = Add()([x,y])\n",
        "            x = BatchNormalization()(x)\n",
        "            x = ReLU()(x)\n",
        "    \n",
        "    x = Conv2D(512, 3, padding='valid', kernel_regularizer=l1l2)(x)\n",
        "    x = BatchNormalization()(x)\n",
        "    x = ReLU()(x)\n",
        "    #x = Flatten()(x)\n",
        "    x = GlobalMaxPooling2D()(x)\n",
        "\n",
        "    for i in range(2):\n",
        "        x = Dense(1024, kernel_regularizer=l1l2)(x)\n",
        "        x = BatchNormalization()(x)\n",
        "        x = ReLU()(x)\n",
        "\n",
        "    x = Dense(num_classes, activation='sigmoid', kernel_regularizer=l1l2)(x)\n",
        "\n",
        "    model = Model(inp, x)\n",
        "\n",
        "    return model, './ulite.h5'\n",
        "\n",
        "#model, path_weights = model1()\n",
        "#plot_model(model, show_layer_names=True, show_shapes=True, dpi=64)\n"
      ]
    },
    {
      "cell_type": "code",
      "execution_count": 8,
      "metadata": {},
      "outputs": [],
      "source": [
        "def model2():\n",
        "    l1l2 = L1L2(l1=1e-5, l2=1e-5)\n",
        "    #, kernel_regularizer=l1l2\n",
        "    \n",
        "    inp = Input(shape=(kshape, kshape, 3))\n",
        "    x = BatchNormalization()(inp)\n",
        "\n",
        "    #x = RandomFlip('vertical')(x)\n",
        "    #x = RandomRotation(0.3)(x)\n",
        "    #x = RandomZoom(.2, .2)(x)\n",
        "    #x = AutoContrast([0, 1])(x)\n",
        "    \n",
        "    for k in [64, 128, 256]:\n",
        "        #x = Conv2D(k, 3, strides=2, padding='valid', kernel_regularizer=l1l2)(x)\n",
        "        x = SeparableConv2D (k, 3, strides=2, padding='valid', kernel_regularizer=l1l2, use_bias=False)(x)\n",
        "        x = BatchNormalization()(x)\n",
        "        x = ReLU()(x)\n",
        "\n",
        "    a = []\n",
        "    for i in range(16):\n",
        "        #y = Conv2D(16, 9, padding='valid', kernel_regularizer=l1l2)(x)\n",
        "        y = SeparableConv2D (64, 3, padding='valid', kernel_regularizer=l1l2, use_bias=False)(x)\n",
        "        y = BatchNormalization()(y)\n",
        "        y = ReLU()(y)\n",
        "        #y = Conv2D(16, 9, strides=2, padding='valid', kernel_regularizer=l1l2)(y)\n",
        "        y = SeparableConv2D (64, 3, strides=2, padding='valid', kernel_regularizer=l1l2, use_bias=False)(y)\n",
        "        a.append(y)\n",
        "    \n",
        "    x = Concatenate()(a)\n",
        "    x = BatchNormalization()(x)\n",
        "    x = ReLU()(x)\n",
        "\n",
        "    #x = Conv2D(512, 3, padding='valid', kernel_regularizer=l1l2)(x)\n",
        "    x = SeparableConv2D (512, 3, padding='valid', kernel_regularizer=l1l2, use_bias=False)(x)\n",
        "    x = BatchNormalization()(x)\n",
        "    x = ReLU()(x)\n",
        "    \n",
        "    #x = Flatten()(x)\n",
        "    x = GlobalAveragePooling2D()(x)\n",
        "\n",
        "    for i in range(2):\n",
        "        x = Dense(512, kernel_regularizer=l1l2)(x)\n",
        "        x = BatchNormalization()(x)\n",
        "        x = ReLU()(x)\n",
        "\n",
        "    x = Dense(num_classes, activation='softmax')(x)\n",
        "\n",
        "    model = Model(inp, x)\n",
        "    model.compile(optimizer=RMSprop(learning_rate=1e-4), loss='categorical_crossentropy', metrics='accuracy')\n",
        "\n",
        "    return model, './ulite2.h5'\n",
        "\n",
        "#plot_model(model, show_layer_names=True, show_shapes=True, dpi=64)\n"
      ]
    },
    {
      "cell_type": "code",
      "execution_count": 9,
      "metadata": {},
      "outputs": [],
      "source": [
        "def model3():\n",
        "    base_model = Xception(include_top=False, input_shape=(kshape, kshape, 3), pooling='avg')\n",
        "    base_model.trainable = True\n",
        "\n",
        "    inputs = Input(shape=(kshape,kshape, 3))\n",
        "    x = base_model(inputs, training=True)\n",
        "    \n",
        "    for i in range(2):\n",
        "        x = Dense(1024)(x)\n",
        "        x = BatchNormalization()(x)\n",
        "        x = ReLU()(x)\n",
        "    \n",
        "    x = Dense(8, activation='softmax')(x)\n",
        "    model = Model(inputs=inputs, outputs=x)\n",
        "    \n",
        "    return model, './ulite3.h5'"
      ]
    },
    {
      "cell_type": "code",
      "execution_count": 10,
      "metadata": {},
      "outputs": [],
      "source": [
        "model, path_weights = model3()\n",
        "\n",
        "es = EarlyStopping(patience=10, verbose=1, restore_best_weights=True)\n",
        "mcp = ModelCheckpoint(path_weights, mode='min', save_best_only=True, save_weights_only=True)\n",
        "rop = ReduceLROnPlateau(patience=8, min_lr=1e-10, verbose=1)\n"
      ]
    },
    {
      "cell_type": "code",
      "execution_count": 11,
      "metadata": {},
      "outputs": [
        {
          "name": "stdout",
          "output_type": "stream",
          "text": [
            "mlyaa\n",
            "Epoch 1/500\n",
            " 1/23 [>.............................] - ETA: 3:32 - loss: 4.2720 - accuracy: 0.0700"
          ]
        }
      ],
      "source": [
        "for i in range(5):\n",
        "    model.compile(optimizer=RMSprop(learning_rate=1e-3), loss='categorical_crossentropy', metrics='accuracy')\n",
        "\n",
        "    try:\n",
        "        model.load_weights(path_weights)\n",
        "    except:\n",
        "        print('mlyaa')\n",
        "\n",
        "    #history = model.fit(datagen.flow(xtrain, ytrain, batch_size=100, subset='training'), epochs=100, verbose=1, validation_data=datagen.flow(xtrain, ytrain, batch_size=100, subset='validation'), callbacks=[es, mcp, rop])\n",
        "    history = model.fit(xtrain, ytrain, batch_size=200, epochs=500, verbose=1, validation_data=(xtest, ytest), callbacks=[es, mcp, rop])"
      ]
    },
    {
      "cell_type": "code",
      "execution_count": null,
      "metadata": {},
      "outputs": [],
      "source": [
        "model.load_weights(path_weights)\n",
        "model.evaluate(xtest, ytest)"
      ]
    },
    {
      "cell_type": "code",
      "execution_count": null,
      "metadata": {},
      "outputs": [],
      "source": [
        "data = pd.read_csv(PATH_TEST, delimiter=',', header=0)"
      ]
    },
    {
      "cell_type": "code",
      "execution_count": null,
      "metadata": {},
      "outputs": [],
      "source": [
        "xval = np.array([img_to_array(load_img(os.path.join(DIR_TEST, s), color_mode='rgb', target_size=shape, keep_aspect_ratio=True)) for s in data.ID_img]) / 255."
      ]
    },
    {
      "cell_type": "code",
      "execution_count": null,
      "metadata": {},
      "outputs": [],
      "source": [
        "pred = model.predict(xval)\n",
        "pred = [np.argmax(i) for i in pred]"
      ]
    },
    {
      "cell_type": "code",
      "execution_count": null,
      "metadata": {},
      "outputs": [],
      "source": [
        "del(data['class'])\n",
        "data['class'] = pred\n",
        "data.head(10)"
      ]
    },
    {
      "cell_type": "code",
      "execution_count": null,
      "metadata": {},
      "outputs": [],
      "source": [
        "data.to_csv('./submit.csv', index=False)"
      ]
    }
  ],
  "metadata": {
    "accelerator": "GPU",
    "colab": {
      "provenance": []
    },
    "kernelspec": {
      "display_name": "Python 3.10.6 64-bit",
      "language": "python",
      "name": "python3"
    },
    "language_info": {
      "codemirror_mode": {
        "name": "ipython",
        "version": 3
      },
      "file_extension": ".py",
      "mimetype": "text/x-python",
      "name": "python",
      "nbconvert_exporter": "python",
      "pygments_lexer": "ipython3",
      "version": "3.10.6"
    },
    "vscode": {
      "interpreter": {
        "hash": "52634da84371cba311ea128a5ea7cdc41ff074b781779e754b270ff9f8153cee"
      }
    }
  },
  "nbformat": 4,
  "nbformat_minor": 0
}
