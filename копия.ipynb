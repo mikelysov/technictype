{
  "cells": [
    {
      "cell_type": "code",
      "execution_count": 1,
      "metadata": {},
      "outputs": [],
      "source": [
        "from keras.models import Model\n",
        "from keras.layers import Input, Conv2D, AveragePooling2D, GlobalAveragePooling2D, BatchNormalization, ReLU, Add, Dense, Flatten, Concatenate\n",
        "from keras.optimizers import Adam, RMSprop\n",
        "from keras.utils import load_img, img_to_array, to_categorical, plot_model\n",
        "\n",
        "import numpy as np\n",
        "import pandas as pd\n",
        "import csv\n",
        "import os\n",
        "from sklearn.model_selection import train_test_split\n",
        "import matplotlib.pyplot as plt\n"
      ]
    },
    {
      "cell_type": "code",
      "execution_count": 2,
      "metadata": {},
      "outputs": [],
      "source": [
        "DIR_TRAIN = \"./train/\"\n",
        "DIR_VAL = \"./val/\"\n",
        "DIR_TEST = \"./test/\"\n",
        "\n",
        "PATH_TRAIN = \"./train.csv\"\n",
        "PATH_TEST = \"./test.csv\""
      ]
    },
    {
      "cell_type": "code",
      "execution_count": 3,
      "metadata": {},
      "outputs": [],
      "source": [
        "data = pd.read_csv(PATH_TRAIN, delimiter=',', header=0)\n",
        "data.head()\n",
        "\n",
        "num_classes = int(data['class'].max()) + 1"
      ]
    },
    {
      "cell_type": "code",
      "execution_count": 4,
      "metadata": {},
      "outputs": [],
      "source": [
        "import shutil\n",
        "\n",
        "def data_for_dataset():\n",
        "    \n",
        "    for i in range(num_classes):\n",
        "        dir = os.path.join(DIR_TRAIN, str(i))\n",
        "        if not os.path.exists(dir):\n",
        "            os.mkdir(dir)\n",
        "        for f in data[data['class']==i].values:\n",
        "            fn = os.path.join(dir, f[0])\n",
        "            if not os.path.exists(fn):\n",
        "                shutil.move(os.path.join(DIR_TRAIN, f[0]), fn)\n",
        "    \n",
        "    if not os.path.exists(DIR_VAL):\n",
        "        os.mkdir(DIR_VAL)\n",
        "    for i in range(num_classes):\n",
        "        dir = os.path.join(DIR_VAL, str(i))\n",
        "        if not os.path.exists(dir):\n",
        "            os.mkdir(dir)\n",
        "        ls = sorted(os.listdir(os.path.join(DIR_TRAIN, str(i))))\n",
        "        for j in range(len(ls)//10):\n",
        "            ffrom = os.path.join(DIR_TRAIN, str(i), ls[j])\n",
        "            fto = os.path.join(DIR_VAL, str(i), ls[j])\n",
        "            if os.path.exists(ffrom) and not os.path.exists(fto):\n",
        "                shutil.move(ffrom, fto)\n",
        "\n",
        "#data_for_dataset()\n"
      ]
    },
    {
      "cell_type": "code",
      "execution_count": 6,
      "metadata": {},
      "outputs": [
        {
          "name": "stdout",
          "output_type": "stream",
          "text": [
            "(4990, 256, 256, 3) (4990, 8)\n"
          ]
        }
      ],
      "source": [
        "shape = (256, 256)\n",
        "xtrain = np.array([img_to_array(load_img(os.path.join(DIR_TRAIN, s), color_mode='rgb', target_size=shape)) for s in data.ID_img])\n",
        "ytrain = np.array([to_categorical(float(s), num_classes=num_classes) for s in data['class']])\n",
        "\n",
        "#xtrain, xtest, ytrain, ytest = train_test_split(xtrain, ytrain, test_size=.1)\n",
        "#print(xtrain.shape, xtest.shape, ytrain.shape, ytest.shape)\n",
        "print(xtrain.shape, ytrain.shape)"
      ]
    },
    {
      "cell_type": "code",
      "execution_count": 7,
      "metadata": {},
      "outputs": [],
      "source": [
        "from keras.preprocessing.image import ImageDataGenerator\n",
        "\n",
        "datagen = ImageDataGenerator(featurewise_center=True,\n",
        "    featurewise_std_normalization=True,\n",
        "    rotation_range=20,\n",
        "    width_shift_range=0.2,\n",
        "    height_shift_range=0.2,\n",
        "    horizontal_flip=True,\n",
        "    validation_split=0.1)\n",
        "datagen.fit(xtrain)"
      ]
    },
    {
      "cell_type": "code",
      "execution_count": 9,
      "metadata": {},
      "outputs": [],
      "source": [
        "def model1():\n",
        "    inp = Input(shape=(256, 256, 3))\n",
        "\n",
        "    x = Conv2D(8, 3, padding='same')(inp)\n",
        "\n",
        "    for k in [16, 32, 64, 128, 256, 512]:\n",
        "        y = BatchNormalization()(x)\n",
        "        y = ReLU()(y)\n",
        "        y = Conv2D(k, 3, padding='same')(y)\n",
        "        y = BatchNormalization()(y)\n",
        "        y = ReLU()(y)\n",
        "        y = Conv2D(k, 3, padding='same')(y)\n",
        "        y = AveragePooling2D(2)(y)\n",
        "        \n",
        "        x = Conv2D(k, 1, padding='same')(x)\n",
        "        x = AveragePooling2D(2)(x)\n",
        "        \n",
        "        x = Add()([x,y])\n",
        "        x = BatchNormalization()(x)\n",
        "        x = ReLU()(x)\n",
        "    x = Flatten()(x)\n",
        "\n",
        "    x = Dense(512)(x)\n",
        "    x = BatchNormalization()(x)\n",
        "    x = ReLU()(x)\n",
        "\n",
        "    x = Dense(num_classes, activation='softmax')(x)\n",
        "\n",
        "    model = Model(inp, x)\n",
        "    model.compile(optimizer=RMSprop(learning_rate=1e-4), loss='categorical_crossentropy', metrics='accuracy')\n",
        "\n",
        "    return model, './ulite.h5'\n",
        "\n",
        "#plot_model(model, show_layer_names=True, show_shapes=True, dpi=64)\n"
      ]
    },
    {
      "cell_type": "code",
      "execution_count": 10,
      "metadata": {},
      "outputs": [],
      "source": [
        "def model2():\n",
        "    inp = Input(shape=(256, 256, 3))\n",
        "    x = BatchNormalization()(inp)\n",
        "\n",
        "    for k in [64, 128]:\n",
        "        #x = Conv2D(k, 3, padding='valid')(x)\n",
        "        #x = BatchNormalization()(x)\n",
        "        #x = ReLU()(x)\n",
        "        x = Conv2D(k, 3, strides=2, padding='valid')(x)\n",
        "        x = BatchNormalization()(x)\n",
        "        x = ReLU()(x)\n",
        "\n",
        "    a = []\n",
        "    for i in range(16):\n",
        "        y = Conv2D(16, 9, padding='valid')(x)\n",
        "        y = BatchNormalization()(y)\n",
        "        y = ReLU()(y)\n",
        "        y = Conv2D(k, 9, strides=2, padding='valid')(y)\n",
        "        a.append(y)\n",
        "    \n",
        "    x = Concatenate()(a)\n",
        "    x = BatchNormalization()(x)\n",
        "    x = ReLU()(x)\n",
        "\n",
        "    x = Conv2D(512, 3, padding='valid')(x)\n",
        "    x = BatchNormalization()(x)\n",
        "    x = ReLU()(x)\n",
        "    \n",
        "    #x = Flatten()(x)\n",
        "    x = GlobalAveragePooling2D()(x)\n",
        "\n",
        "    x = Dense(512)(x)\n",
        "    x = BatchNormalization()(x)\n",
        "    x = ReLU()(x)\n",
        "\n",
        "    x = Dense(num_classes, activation='softmax')(x)\n",
        "\n",
        "    model = Model(inp, x)\n",
        "    model.compile(optimizer=RMSprop(learning_rate=1e-4), loss='categorical_crossentropy', metrics='accuracy')\n",
        "\n",
        "    return model, './ulite2.h5'\n",
        "\n",
        "#plot_model(model, show_layer_names=True, show_shapes=True, dpi=64)\n"
      ]
    },
    {
      "cell_type": "code",
      "execution_count": 11,
      "metadata": {},
      "outputs": [],
      "source": [
        "from keras.callbacks import EarlyStopping, ModelCheckpoint, ReduceLROnPlateau\n",
        "\n",
        "model, path_weights = model1()\n",
        "\n",
        "es = EarlyStopping(patience=10)\n",
        "mcp = ModelCheckpoint(path_weights, mode='min', save_best_only=True, save_weights_only=True)\n",
        "rop = ReduceLROnPlateau(patience=8, min_lr=1e-10)\n"
      ]
    },
    {
      "cell_type": "code",
      "execution_count": 12,
      "metadata": {},
      "outputs": [
        {
          "name": "stdout",
          "output_type": "stream",
          "text": [
            "Epoch 1/100\n",
            "225/225 [==============================] - 38s 149ms/step - loss: 1.3779 - accuracy: 0.5549 - val_loss: 2.3959 - val_accuracy: 0.3146 - lr: 1.0000e-04\n",
            "Epoch 2/100\n",
            "225/225 [==============================] - 32s 142ms/step - loss: 0.9916 - accuracy: 0.6745 - val_loss: 1.5130 - val_accuracy: 0.6273 - lr: 1.0000e-04\n",
            "Epoch 3/100\n",
            "225/225 [==============================] - 32s 141ms/step - loss: 0.8313 - accuracy: 0.7266 - val_loss: 0.9227 - val_accuracy: 0.7355 - lr: 1.0000e-04\n",
            "Epoch 4/100\n",
            "225/225 [==============================] - 32s 141ms/step - loss: 0.7085 - accuracy: 0.7671 - val_loss: 0.7528 - val_accuracy: 0.7455 - lr: 1.0000e-04\n",
            "Epoch 5/100\n",
            "225/225 [==============================] - 32s 141ms/step - loss: 0.6367 - accuracy: 0.7887 - val_loss: 0.9094 - val_accuracy: 0.7415 - lr: 1.0000e-04\n",
            "Epoch 6/100\n",
            "225/225 [==============================] - 32s 141ms/step - loss: 0.5698 - accuracy: 0.8067 - val_loss: 0.9726 - val_accuracy: 0.7435 - lr: 1.0000e-04\n",
            "Epoch 7/100\n",
            "225/225 [==============================] - 32s 141ms/step - loss: 0.5254 - accuracy: 0.8208 - val_loss: 0.6189 - val_accuracy: 0.8016 - lr: 1.0000e-04\n",
            "Epoch 8/100\n",
            "225/225 [==============================] - 32s 143ms/step - loss: 0.4715 - accuracy: 0.8470 - val_loss: 0.7938 - val_accuracy: 0.7555 - lr: 1.0000e-04\n",
            "Epoch 9/100\n",
            "225/225 [==============================] - 32s 142ms/step - loss: 0.4348 - accuracy: 0.8564 - val_loss: 0.6453 - val_accuracy: 0.7976 - lr: 1.0000e-04\n",
            "Epoch 10/100\n",
            "225/225 [==============================] - 32s 142ms/step - loss: 0.4142 - accuracy: 0.8644 - val_loss: 0.8832 - val_accuracy: 0.7756 - lr: 1.0000e-04\n",
            "Epoch 11/100\n",
            "225/225 [==============================] - 32s 142ms/step - loss: 0.3793 - accuracy: 0.8706 - val_loss: 0.7653 - val_accuracy: 0.8297 - lr: 1.0000e-04\n",
            "Epoch 12/100\n",
            "225/225 [==============================] - 32s 142ms/step - loss: 0.3640 - accuracy: 0.8771 - val_loss: 0.5181 - val_accuracy: 0.8317 - lr: 1.0000e-04\n",
            "Epoch 13/100\n",
            "225/225 [==============================] - 32s 142ms/step - loss: 0.3342 - accuracy: 0.8842 - val_loss: 0.5574 - val_accuracy: 0.8337 - lr: 1.0000e-04\n",
            "Epoch 14/100\n",
            "225/225 [==============================] - 32s 143ms/step - loss: 0.3130 - accuracy: 0.8962 - val_loss: 0.7175 - val_accuracy: 0.8196 - lr: 1.0000e-04\n",
            "Epoch 15/100\n",
            "225/225 [==============================] - 32s 144ms/step - loss: 0.2883 - accuracy: 0.9011 - val_loss: 0.6043 - val_accuracy: 0.8277 - lr: 1.0000e-04\n",
            "Epoch 16/100\n",
            "225/225 [==============================] - 33s 145ms/step - loss: 0.2688 - accuracy: 0.9105 - val_loss: 0.4493 - val_accuracy: 0.8758 - lr: 1.0000e-04\n",
            "Epoch 17/100\n",
            "225/225 [==============================] - 32s 143ms/step - loss: 0.2609 - accuracy: 0.9123 - val_loss: 0.7532 - val_accuracy: 0.8116 - lr: 1.0000e-04\n",
            "Epoch 18/100\n",
            "225/225 [==============================] - 32s 142ms/step - loss: 0.2603 - accuracy: 0.9096 - val_loss: 0.4397 - val_accuracy: 0.8637 - lr: 1.0000e-04\n",
            "Epoch 19/100\n",
            "199/225 [=========================>....] - ETA: 3s - loss: 0.2289 - accuracy: 0.9252"
          ]
        }
      ],
      "source": [
        "history = model.fit(datagen.flow(xtrain, ytrain, batch_size=20, subset='training'), epochs=100, verbose=1, validation_data=datagen.flow(xtrain, ytrain, batch_size=20, subset='validation'), callbacks=[es, mcp, rop])"
      ]
    },
    {
      "cell_type": "code",
      "execution_count": null,
      "metadata": {},
      "outputs": [
        {
          "name": "stdout",
          "output_type": "stream",
          "text": [
            "16/16 [==============================] - 1s 47ms/step - loss: 0.0053 - accuracy: 1.0000\n"
          ]
        },
        {
          "data": {
            "text/plain": [
              "[0.00528649752959609, 1.0]"
            ]
          },
          "execution_count": 42,
          "metadata": {},
          "output_type": "execute_result"
        }
      ],
      "source": [
        "model.load_weights(path_weights)\n",
        "model.evaluate(xtest, ytest)"
      ]
    },
    {
      "cell_type": "code",
      "execution_count": null,
      "metadata": {},
      "outputs": [
        {
          "data": {
            "text/html": [
              "<div>\n",
              "<style scoped>\n",
              "    .dataframe tbody tr th:only-of-type {\n",
              "        vertical-align: middle;\n",
              "    }\n",
              "\n",
              "    .dataframe tbody tr th {\n",
              "        vertical-align: top;\n",
              "    }\n",
              "\n",
              "    .dataframe thead th {\n",
              "        text-align: right;\n",
              "    }\n",
              "</style>\n",
              "<table border=\"1\" class=\"dataframe\">\n",
              "  <thead>\n",
              "    <tr style=\"text-align: right;\">\n",
              "      <th></th>\n",
              "      <th>ID_img</th>\n",
              "      <th>class</th>\n",
              "    </tr>\n",
              "  </thead>\n",
              "  <tbody>\n",
              "    <tr>\n",
              "      <th>0</th>\n",
              "      <td>0.jpg</td>\n",
              "      <td>0</td>\n",
              "    </tr>\n",
              "    <tr>\n",
              "      <th>1</th>\n",
              "      <td>1.jpg</td>\n",
              "      <td>0</td>\n",
              "    </tr>\n",
              "    <tr>\n",
              "      <th>2</th>\n",
              "      <td>2.jpg</td>\n",
              "      <td>0</td>\n",
              "    </tr>\n",
              "    <tr>\n",
              "      <th>3</th>\n",
              "      <td>3.jpg</td>\n",
              "      <td>0</td>\n",
              "    </tr>\n",
              "    <tr>\n",
              "      <th>4</th>\n",
              "      <td>4.jpg</td>\n",
              "      <td>0</td>\n",
              "    </tr>\n",
              "  </tbody>\n",
              "</table>\n",
              "</div>"
            ],
            "text/plain": [
              "  ID_img  class\n",
              "0  0.jpg      0\n",
              "1  1.jpg      0\n",
              "2  2.jpg      0\n",
              "3  3.jpg      0\n",
              "4  4.jpg      0"
            ]
          },
          "execution_count": 53,
          "metadata": {},
          "output_type": "execute_result"
        }
      ],
      "source": [
        "data = pd.read_csv(PATH_TEST, delimiter=',', header=0)\n",
        "data.head()"
      ]
    },
    {
      "cell_type": "code",
      "execution_count": null,
      "metadata": {},
      "outputs": [],
      "source": [
        "xval = np.array([img_to_array(load_img(os.path.join(DIR_TEST, s), color_mode='rgb', target_size=shape)) for s in data.ID_img])"
      ]
    },
    {
      "cell_type": "code",
      "execution_count": null,
      "metadata": {},
      "outputs": [
        {
          "name": "stdout",
          "output_type": "stream",
          "text": [
            "67/67 [==============================] - 3s 47ms/step\n"
          ]
        }
      ],
      "source": [
        "pred = model.predict(xval)\n",
        "pred = [np.argmax(i) for i in pred]"
      ]
    },
    {
      "cell_type": "code",
      "execution_count": null,
      "metadata": {},
      "outputs": [
        {
          "data": {
            "text/html": [
              "<div>\n",
              "<style scoped>\n",
              "    .dataframe tbody tr th:only-of-type {\n",
              "        vertical-align: middle;\n",
              "    }\n",
              "\n",
              "    .dataframe tbody tr th {\n",
              "        vertical-align: top;\n",
              "    }\n",
              "\n",
              "    .dataframe thead th {\n",
              "        text-align: right;\n",
              "    }\n",
              "</style>\n",
              "<table border=\"1\" class=\"dataframe\">\n",
              "  <thead>\n",
              "    <tr style=\"text-align: right;\">\n",
              "      <th></th>\n",
              "      <th>ID_img</th>\n",
              "      <th>class</th>\n",
              "    </tr>\n",
              "  </thead>\n",
              "  <tbody>\n",
              "    <tr>\n",
              "      <th>0</th>\n",
              "      <td>0.jpg</td>\n",
              "      <td>5</td>\n",
              "    </tr>\n",
              "    <tr>\n",
              "      <th>1</th>\n",
              "      <td>1.jpg</td>\n",
              "      <td>2</td>\n",
              "    </tr>\n",
              "    <tr>\n",
              "      <th>2</th>\n",
              "      <td>2.jpg</td>\n",
              "      <td>1</td>\n",
              "    </tr>\n",
              "    <tr>\n",
              "      <th>3</th>\n",
              "      <td>3.jpg</td>\n",
              "      <td>1</td>\n",
              "    </tr>\n",
              "    <tr>\n",
              "      <th>4</th>\n",
              "      <td>4.jpg</td>\n",
              "      <td>6</td>\n",
              "    </tr>\n",
              "  </tbody>\n",
              "</table>\n",
              "</div>"
            ],
            "text/plain": [
              "  ID_img  class\n",
              "0  0.jpg      5\n",
              "1  1.jpg      2\n",
              "2  2.jpg      1\n",
              "3  3.jpg      1\n",
              "4  4.jpg      6"
            ]
          },
          "execution_count": 57,
          "metadata": {},
          "output_type": "execute_result"
        }
      ],
      "source": [
        "del(data['class'])\n",
        "data['class'] = pred\n",
        "data.head()"
      ]
    },
    {
      "cell_type": "code",
      "execution_count": null,
      "metadata": {},
      "outputs": [],
      "source": [
        "data.to_csv('./submit.csv', index=False)"
      ]
    }
  ],
  "metadata": {
    "accelerator": "GPU",
    "colab": {
      "provenance": []
    },
    "kernelspec": {
      "display_name": "Python 3.10.6 64-bit",
      "language": "python",
      "name": "python3"
    },
    "language_info": {
      "codemirror_mode": {
        "name": "ipython",
        "version": 3
      },
      "file_extension": ".py",
      "mimetype": "text/x-python",
      "name": "python",
      "nbconvert_exporter": "python",
      "pygments_lexer": "ipython3",
      "version": "3.10.6"
    },
    "vscode": {
      "interpreter": {
        "hash": "52634da84371cba311ea128a5ea7cdc41ff074b781779e754b270ff9f8153cee"
      }
    }
  },
  "nbformat": 4,
  "nbformat_minor": 0
}
