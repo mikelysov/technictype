{
  "cells": [
    {
      "cell_type": "code",
      "execution_count": 1,
      "metadata": {},
      "outputs": [],
      "source": [
        "from keras.models import Model\n",
        "from keras.layers import Input, Conv2D, AveragePooling2D, MaxPooling2D, GlobalAveragePooling2D, BatchNormalization, ReLU, Add, Dense, Flatten, Concatenate\n",
        "from keras.optimizers import Adam, RMSprop\n",
        "from keras.utils import load_img, img_to_array, to_categorical, plot_model\n",
        "from keras.regularizers import L1L2\n",
        "\n",
        "import numpy as np\n",
        "import pandas as pd\n",
        "import os\n"
      ]
    },
    {
      "cell_type": "code",
      "execution_count": 2,
      "metadata": {},
      "outputs": [],
      "source": [
        "DIR_TRAIN = \"./train/\"\n",
        "DIR_TEST = \"./test/\"\n",
        "\n",
        "PATH_TRAIN = \"./train.csv\"\n",
        "PATH_TEST = \"./test.csv\""
      ]
    },
    {
      "cell_type": "code",
      "execution_count": 3,
      "metadata": {},
      "outputs": [],
      "source": [
        "data = pd.read_csv(PATH_TRAIN, delimiter=',', header=0)\n",
        "data.head()\n",
        "\n",
        "num_classes = int(data['class'].max()) + 1"
      ]
    },
    {
      "cell_type": "code",
      "execution_count": 4,
      "metadata": {},
      "outputs": [],
      "source": [
        "import shutil\n",
        "\n",
        "DIR_VAL = \"./val/\"\n",
        "\n",
        "def data_for_dataset():\n",
        "    \n",
        "    for i in range(num_classes):\n",
        "        dir = os.path.join(DIR_TRAIN, str(i))\n",
        "        if not os.path.exists(dir):\n",
        "            os.mkdir(dir)\n",
        "        for f in data[data['class']==i].values:\n",
        "            fn = os.path.join(dir, f[0])\n",
        "            if not os.path.exists(fn):\n",
        "                shutil.move(os.path.join(DIR_TRAIN, f[0]), fn)\n",
        "    \n",
        "    if not os.path.exists(DIR_VAL):\n",
        "        os.mkdir(DIR_VAL)\n",
        "    for i in range(num_classes):\n",
        "        dir = os.path.join(DIR_VAL, str(i))\n",
        "        if not os.path.exists(dir):\n",
        "            os.mkdir(dir)\n",
        "        ls = sorted(os.listdir(os.path.join(DIR_TRAIN, str(i))))\n",
        "        for j in range(len(ls)//10):\n",
        "            ffrom = os.path.join(DIR_TRAIN, str(i), ls[j])\n",
        "            fto = os.path.join(DIR_VAL, str(i), ls[j])\n",
        "            if os.path.exists(ffrom) and not os.path.exists(fto):\n",
        "                shutil.move(ffrom, fto)\n",
        "\n",
        "#data_for_dataset()\n"
      ]
    },
    {
      "cell_type": "code",
      "execution_count": 5,
      "metadata": {},
      "outputs": [
        {
          "name": "stdout",
          "output_type": "stream",
          "text": [
            "(4990, 128, 128, 3) (4990, 8)\n"
          ]
        }
      ],
      "source": [
        "shape = (128, 128)\n",
        "xtrain = np.array([img_to_array(load_img(os.path.join(DIR_TRAIN, s), color_mode='rgb', target_size=shape, keep_aspect_ratio=True)) for s in data.ID_img]) / 255.\n",
        "ytrain = np.array([to_categorical(s, num_classes=num_classes) for s in data['class']])\n",
        "\n",
        "#xtrain, xtest, ytrain, ytest = train_test_split(xtrain, ytrain, test_size=.1)\n",
        "#print(xtrain.shape, xtest.shape, ytrain.shape, ytest.shape)\n",
        "print(xtrain.shape, ytrain.shape)"
      ]
    },
    {
      "cell_type": "code",
      "execution_count": 6,
      "metadata": {},
      "outputs": [],
      "source": [
        "from keras.preprocessing.image import ImageDataGenerator\n",
        "\n",
        "datagen = ImageDataGenerator(featurewise_center=True,\n",
        "    rotation_range=20,\n",
        "    width_shift_range=0.2,\n",
        "    height_shift_range=0.2,\n",
        "    horizontal_flip=True,\n",
        "    validation_split=0.1)\n",
        "datagen.fit(xtrain)"
      ]
    },
    {
      "cell_type": "code",
      "execution_count": 7,
      "metadata": {},
      "outputs": [],
      "source": [
        "def model1():\n",
        "    l1l2 = L1L2(l1=1e-5, l2=1e-4)\n",
        "    \n",
        "    inp = Input(shape=(128, 128, 3))\n",
        "\n",
        "    x = Conv2D(8, 3, padding='valid', kernel_regularizer=l1l2)(inp)\n",
        "    x = BatchNormalization()(x)\n",
        "    x = ReLU()(x)\n",
        "\n",
        "    for k in [16, 32, 64, 128, 256]:\n",
        "        for i in range(3):\n",
        "            y = Conv2D(k, 3, padding='same', kernel_regularizer=l1l2)(x)\n",
        "            y = BatchNormalization()(y)\n",
        "            y = ReLU()(y)\n",
        "            y = Conv2D(k, 3, padding='same', kernel_regularizer=l1l2)(y)\n",
        "            if i == 2:\n",
        "                y = MaxPooling2D(2)(y)\n",
        "            \n",
        "            x = Conv2D(k, 1, padding='same', kernel_regularizer=l1l2)(x)\n",
        "            if i == 2:\n",
        "                x = MaxPooling2D(2)(x)\n",
        "            \n",
        "            x = Add()([x,y])\n",
        "            x = BatchNormalization()(x)\n",
        "            x = ReLU()(x)\n",
        "    \n",
        "    x = Conv2D(512, 3, padding='valid', kernel_regularizer=l1l2)(x)\n",
        "    x = BatchNormalization()(x)\n",
        "    x = ReLU()(x)\n",
        "    x = Flatten()(x)\n",
        "\n",
        "    for i in range(2):\n",
        "        x = Dense(4096, kernel_regularizer=l1l2)(x)\n",
        "        x = BatchNormalization()(x)\n",
        "        x = ReLU()(x)\n",
        "\n",
        "    x = Dense(num_classes, activation='softmax')(x)\n",
        "\n",
        "    model = Model(inp, x)\n",
        "    model.compile(optimizer=Adam(learning_rate=1e-4), loss='categorical_crossentropy', metrics='accuracy')\n",
        "\n",
        "    return model, './ulite.h5'\n",
        "\n",
        "model, path_weights = model1()\n",
        "#plot_model(model, show_layer_names=True, show_shapes=True, dpi=64)\n"
      ]
    },
    {
      "cell_type": "code",
      "execution_count": 8,
      "metadata": {},
      "outputs": [],
      "source": [
        "def model2():\n",
        "    inp = Input(shape=(128, 128, 3))\n",
        "    x = BatchNormalization()(inp)\n",
        "\n",
        "    for k in [64, 128]:\n",
        "        #x = Conv2D(k, 3, padding='valid')(x)\n",
        "        #x = BatchNormalization()(x)\n",
        "        #x = ReLU()(x)\n",
        "        x = Conv2D(k, 3, strides=2, padding='valid')(x)\n",
        "        x = BatchNormalization()(x)\n",
        "        x = ReLU()(x)\n",
        "\n",
        "    a = []\n",
        "    for i in range(16):\n",
        "        y = Conv2D(16, 9, padding='valid')(x)\n",
        "        y = BatchNormalization()(y)\n",
        "        y = ReLU()(y)\n",
        "        y = Conv2D(16, 9, strides=2, padding='valid')(y)\n",
        "        a.append(y)\n",
        "    \n",
        "    x = Concatenate()(a)\n",
        "    x = BatchNormalization()(x)\n",
        "    x = ReLU()(x)\n",
        "\n",
        "    x = Conv2D(512, 3, padding='valid')(x)\n",
        "    x = BatchNormalization()(x)\n",
        "    x = ReLU()(x)\n",
        "    \n",
        "    #x = Flatten()(x)\n",
        "    x = GlobalAveragePooling2D()(x)\n",
        "\n",
        "    x = Dense(512)(x)\n",
        "    x = BatchNormalization()(x)\n",
        "    x = ReLU()(x)\n",
        "\n",
        "    x = Dense(num_classes, activation='softmax')(x)\n",
        "\n",
        "    model = Model(inp, x)\n",
        "    model.compile(optimizer=RMSprop(learning_rate=1e-4), loss='categorical_crossentropy', metrics='accuracy')\n",
        "\n",
        "    return model, './ulite2.h5'\n",
        "\n",
        "#plot_model(model, show_layer_names=True, show_shapes=True, dpi=64)\n"
      ]
    },
    {
      "cell_type": "code",
      "execution_count": 9,
      "metadata": {},
      "outputs": [],
      "source": [
        "from keras.callbacks import EarlyStopping, ModelCheckpoint, ReduceLROnPlateau\n",
        "\n",
        "model, path_weights = model1()\n",
        "\n",
        "es = EarlyStopping(patience=10, verbose=1, restore_best_weights=True)\n",
        "mcp = ModelCheckpoint(path_weights, mode='min', save_best_only=True, save_weights_only=True)\n",
        "rop = ReduceLROnPlateau(patience=8, min_lr=1e-10, verbose=1)\n"
      ]
    },
    {
      "cell_type": "code",
      "execution_count": 10,
      "metadata": {},
      "outputs": [
        {
          "name": "stdout",
          "output_type": "stream",
          "text": [
            "Epoch 1/100\n",
            "45/45 [==============================] - 28s 475ms/step - loss: 6.9243 - accuracy: 0.2928 - val_loss: 6.7165 - val_accuracy: 0.2224 - lr: 1.0000e-04\n",
            "Epoch 2/100\n",
            "45/45 [==============================] - 19s 421ms/step - loss: 6.7026 - accuracy: 0.3547 - val_loss: 6.6660 - val_accuracy: 0.3026 - lr: 1.0000e-04\n",
            "Epoch 3/100\n",
            "45/45 [==============================] - 19s 423ms/step - loss: 6.4811 - accuracy: 0.4195 - val_loss: 6.7415 - val_accuracy: 0.3026 - lr: 1.0000e-04\n",
            "Epoch 4/100\n",
            "45/45 [==============================] - 19s 425ms/step - loss: 6.3196 - accuracy: 0.4743 - val_loss: 6.8115 - val_accuracy: 0.3026 - lr: 1.0000e-04\n",
            "Epoch 5/100\n",
            "45/45 [==============================] - 19s 427ms/step - loss: 6.2080 - accuracy: 0.5181 - val_loss: 6.9079 - val_accuracy: 0.3026 - lr: 1.0000e-04\n",
            "Epoch 6/100\n",
            "45/45 [==============================] - 19s 429ms/step - loss: 6.0728 - accuracy: 0.5469 - val_loss: 7.0624 - val_accuracy: 0.3026 - lr: 1.0000e-04\n",
            "Epoch 7/100\n",
            "13/45 [=======>......................] - ETA: 12s - loss: 6.0067 - accuracy: 0.5593"
          ]
        }
      ],
      "source": [
        "if not os.path.exists(path_weights):\n",
        "    model.load_weights(path_weights)\n",
        "history = model.fit(datagen.flow(xtrain, ytrain, batch_size=100, subset='training'), epochs=100, verbose=1, validation_data=datagen.flow(xtrain, ytrain, batch_size=100, subset='validation'), callbacks=[es, mcp, rop])"
      ]
    },
    {
      "cell_type": "code",
      "execution_count": null,
      "metadata": {},
      "outputs": [],
      "source": [
        "#model.load_weights(path_weights)\n",
        "model.evaluate(datagen.flow(xtrain, ytrain, batch_size=20, subset='validation'))"
      ]
    },
    {
      "cell_type": "code",
      "execution_count": null,
      "metadata": {},
      "outputs": [],
      "source": [
        "data = pd.read_csv(PATH_TEST, delimiter=',', header=0)\n",
        "data.head()"
      ]
    },
    {
      "cell_type": "code",
      "execution_count": null,
      "metadata": {},
      "outputs": [],
      "source": [
        "xval = np.array([img_to_array(load_img(os.path.join(DIR_TEST, s), color_mode='rgb', target_size=shape, keep_aspect_ratio=True)) for s in data.ID_img]) / 255."
      ]
    },
    {
      "cell_type": "code",
      "execution_count": null,
      "metadata": {},
      "outputs": [],
      "source": [
        "pred = model.predict(xval)\n",
        "pred = [np.argmax(i) for i in pred]"
      ]
    },
    {
      "cell_type": "code",
      "execution_count": null,
      "metadata": {},
      "outputs": [],
      "source": [
        "del(data['class'])\n",
        "data['class'] = pred\n",
        "data.head()"
      ]
    },
    {
      "cell_type": "code",
      "execution_count": null,
      "metadata": {},
      "outputs": [],
      "source": [
        "data.to_csv('./submit.csv', index=False)"
      ]
    }
  ],
  "metadata": {
    "accelerator": "GPU",
    "colab": {
      "provenance": []
    },
    "kernelspec": {
      "display_name": "Python 3.10.6 64-bit",
      "language": "python",
      "name": "python3"
    },
    "language_info": {
      "codemirror_mode": {
        "name": "ipython",
        "version": 3
      },
      "file_extension": ".py",
      "mimetype": "text/x-python",
      "name": "python",
      "nbconvert_exporter": "python",
      "pygments_lexer": "ipython3",
      "version": "3.10.6"
    },
    "vscode": {
      "interpreter": {
        "hash": "52634da84371cba311ea128a5ea7cdc41ff074b781779e754b270ff9f8153cee"
      }
    }
  },
  "nbformat": 4,
  "nbformat_minor": 0
}
