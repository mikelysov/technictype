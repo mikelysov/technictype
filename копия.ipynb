{
  "cells": [
    {
      "cell_type": "code",
      "execution_count": 1,
      "metadata": {},
      "outputs": [],
      "source": [
        "from keras.models import Model, load_model\n",
        "from keras.layers import Input, Conv2D, AveragePooling2D, MaxPooling2D, GlobalAveragePooling2D, GlobalMaxPooling2D, BatchNormalization, ReLU, Add, Dense, Flatten, Concatenate, ZeroPadding2D, Conv2DTranspose, Cropping2D, concatenate, Resizing\n",
        "from keras.optimizers import Adam, RMSprop\n",
        "from keras.utils import load_img, img_to_array, to_categorical, plot_model\n",
        "from keras.regularizers import L1L2\n",
        "\n",
        "import numpy as np\n",
        "import pandas as pd\n",
        "import os\n",
        "from sklearn.model_selection import train_test_split"
      ]
    },
    {
      "cell_type": "code",
      "execution_count": 2,
      "metadata": {},
      "outputs": [],
      "source": [
        "DIR_TRAIN = \"./train/\"\n",
        "DIR_TEST = \"./test/\"\n",
        "\n",
        "PATH_TRAIN = \"./train.csv\"\n",
        "PATH_TEST = \"./test.csv\""
      ]
    },
    {
      "cell_type": "code",
      "execution_count": 3,
      "metadata": {},
      "outputs": [],
      "source": [
        "data = pd.read_csv(PATH_TRAIN, delimiter=',', header=0)\n",
        "data.head()\n",
        "\n",
        "num_classes = int(data['class'].max()) + 1"
      ]
    },
    {
      "cell_type": "code",
      "execution_count": 4,
      "metadata": {},
      "outputs": [],
      "source": [
        "import shutil\n",
        "\n",
        "DIR_VAL = \"./val/\"\n",
        "\n",
        "def data_for_dataset():\n",
        "    \n",
        "    for i in range(num_classes):\n",
        "        dir = os.path.join(DIR_TRAIN, str(i))\n",
        "        if not os.path.exists(dir):\n",
        "            os.mkdir(dir)\n",
        "        for f in data[data['class']==i].values:\n",
        "            fn = os.path.join(dir, f[0])\n",
        "            if not os.path.exists(fn):\n",
        "                shutil.move(os.path.join(DIR_TRAIN, f[0]), fn)\n",
        "    \n",
        "    if not os.path.exists(DIR_VAL):\n",
        "        os.mkdir(DIR_VAL)\n",
        "    for i in range(num_classes):\n",
        "        dir = os.path.join(DIR_VAL, str(i))\n",
        "        if not os.path.exists(dir):\n",
        "            os.mkdir(dir)\n",
        "        ls = sorted(os.listdir(os.path.join(DIR_TRAIN, str(i))))\n",
        "        for j in range(len(ls)//10):\n",
        "            ffrom = os.path.join(DIR_TRAIN, str(i), ls[j])\n",
        "            fto = os.path.join(DIR_VAL, str(i), ls[j])\n",
        "            if os.path.exists(ffrom) and not os.path.exists(fto):\n",
        "                shutil.move(ffrom, fto)\n",
        "\n",
        "#data_for_dataset()\n"
      ]
    },
    {
      "cell_type": "code",
      "execution_count": 5,
      "metadata": {},
      "outputs": [
        {
          "name": "stdout",
          "output_type": "stream",
          "text": [
            "(4491, 128, 128, 3) (499, 128, 128, 3) (4491, 8) (499, 8)\n"
          ]
        }
      ],
      "source": [
        "kshape = 128\n",
        "shape = (kshape, kshape)\n",
        "xtrain = np.array([img_to_array(load_img(os.path.join(DIR_TRAIN, s), color_mode='rgb', target_size=shape, keep_aspect_ratio=True)) for s in data.ID_img]) / 255.\n",
        "ytrain = np.array([to_categorical(s, num_classes=num_classes) for s in data['class']])\n",
        "\n",
        "xtrain, xtest, ytrain, ytest = train_test_split(xtrain, ytrain, test_size=.1)\n",
        "print(xtrain.shape, xtest.shape, ytrain.shape, ytest.shape)\n",
        "#print(xtrain.shape, ytrain.shape)"
      ]
    },
    {
      "cell_type": "code",
      "execution_count": 6,
      "metadata": {},
      "outputs": [],
      "source": [
        "#from keras.preprocessing.image import ImageDataGenerator\n",
        "\n",
        "#datagen = ImageDataGenerator(featurewise_center=True, rotation_range=20, width_shift_range=0.2, height_shift_range=0.2, validation_split=0.1)#horizontal_flip=True\n",
        "#datagen.fit(xtrain)"
      ]
    },
    {
      "cell_type": "code",
      "execution_count": 7,
      "metadata": {},
      "outputs": [],
      "source": [
        "def model1():\n",
        "    l1l2 = L1L2(l1=1e-6, l2=1e-6)\n",
        "    \n",
        "    inp = Input(shape=(kshape, kshape, 3))\n",
        "\n",
        "    x = Conv2D(8, 3, padding='valid', kernel_regularizer=l1l2)(inp)\n",
        "    x = BatchNormalization()(x)\n",
        "    x = ReLU()(x)\n",
        "\n",
        "    for k, n in zip([16, 32, 64, 128, 256], [2,2,3,3,4]):\n",
        "        for i in range(n):\n",
        "            y = Conv2D(k, 3, padding='same', kernel_regularizer=l1l2, use_bias=False)(x)\n",
        "            #y = BatchNormalization()(y)\n",
        "            y = ReLU()(y)\n",
        "            y = Conv2D(k, 3, padding='same', kernel_regularizer=l1l2, use_bias=False)(y)\n",
        "            if i == n-1:\n",
        "                y = MaxPooling2D(2)(y)\n",
        "            \n",
        "            x = Conv2D(k, 1, padding='same', kernel_regularizer=l1l2, use_bias=False)(x)\n",
        "            if i == n-1:\n",
        "                x = MaxPooling2D(2)(x)\n",
        "            \n",
        "            x = Add()([x,y])\n",
        "            x = BatchNormalization()(x)\n",
        "            x = ReLU()(x)\n",
        "    \n",
        "    x = Conv2D(512, 3, padding='valid', kernel_regularizer=l1l2, use_bias=False)(x)\n",
        "    x = BatchNormalization()(x)\n",
        "    x = ReLU()(x)\n",
        "    #x = Flatten()(x)\n",
        "    x = GlobalMaxPooling2D()(x)\n",
        "\n",
        "    for i in range(2):\n",
        "        x = Dense(512, kernel_regularizer=l1l2, use_bias=False)(x)\n",
        "        #x = BatchNormalization()(x)\n",
        "        x = ReLU()(x)\n",
        "\n",
        "    x = Dense(num_classes, activation='softmax', use_bias=False)(x)\n",
        "\n",
        "    model = Model(inp, x)\n",
        "    model.compile(optimizer=Adam(learning_rate=1e-4), loss='categorical_crossentropy', metrics='accuracy')\n",
        "\n",
        "    return model, './ulite.h5'\n",
        "\n",
        "#model, path_weights = model1()\n",
        "#plot_model(model, show_layer_names=True, show_shapes=True, dpi=64)\n"
      ]
    },
    {
      "cell_type": "code",
      "execution_count": 8,
      "metadata": {},
      "outputs": [],
      "source": [
        "def model2():\n",
        "    inp = Input(shape=(kshape, kshape, 3))\n",
        "    x = BatchNormalization()(inp)\n",
        "\n",
        "    for k in [64, 128]:\n",
        "        #x = Conv2D(k, 3, padding='valid')(x)\n",
        "        #x = BatchNormalization()(x)\n",
        "        #x = ReLU()(x)\n",
        "        x = Conv2D(k, 3, strides=2, padding='valid')(x)\n",
        "        x = BatchNormalization()(x)\n",
        "        x = ReLU()(x)\n",
        "\n",
        "    a = []\n",
        "    for i in range(16):\n",
        "        y = Conv2D(16, 9, padding='valid')(x)\n",
        "        y = BatchNormalization()(y)\n",
        "        y = ReLU()(y)\n",
        "        y = Conv2D(16, 9, strides=2, padding='valid')(y)\n",
        "        a.append(y)\n",
        "    \n",
        "    x = Concatenate()(a)\n",
        "    x = BatchNormalization()(x)\n",
        "    x = ReLU()(x)\n",
        "\n",
        "    x = Conv2D(512, 3, padding='valid')(x)\n",
        "    x = BatchNormalization()(x)\n",
        "    x = ReLU()(x)\n",
        "    \n",
        "    #x = Flatten()(x)\n",
        "    x = GlobalAveragePooling2D()(x)\n",
        "\n",
        "    x = Dense(512)(x)\n",
        "    x = BatchNormalization()(x)\n",
        "    x = ReLU()(x)\n",
        "\n",
        "    x = Dense(num_classes, activation='softmax')(x)\n",
        "\n",
        "    model = Model(inp, x)\n",
        "    model.compile(optimizer=RMSprop(learning_rate=1e-4), loss='categorical_crossentropy', metrics='accuracy')\n",
        "\n",
        "    return model, './ulite2.h5'\n",
        "\n",
        "#plot_model(model, show_layer_names=True, show_shapes=True, dpi=64)\n"
      ]
    },
    {
      "cell_type": "code",
      "execution_count": 9,
      "metadata": {},
      "outputs": [],
      "source": [
        "from keras.callbacks import EarlyStopping, ModelCheckpoint, ReduceLROnPlateau\n",
        "\n",
        "model, path_weights = model1()\n",
        "\n",
        "es = EarlyStopping(patience=10, verbose=1, restore_best_weights=True)\n",
        "mcp = ModelCheckpoint(path_weights, mode='min', save_best_only=True, save_weights_only=True)\n",
        "rop = ReduceLROnPlateau(patience=8, min_lr=1e-10, verbose=1)\n"
      ]
    },
    {
      "cell_type": "code",
      "execution_count": 10,
      "metadata": {},
      "outputs": [
        {
          "name": "stdout",
          "output_type": "stream",
          "text": [
            "Epoch 1/100\n",
            "45/45 [==============================] - 18s 300ms/step - loss: 0.2848 - accuracy: 0.9653 - val_loss: 1.0960 - val_accuracy: 0.7655 - lr: 1.0000e-04\n",
            "Epoch 2/100\n",
            "45/45 [==============================] - 11s 247ms/step - loss: 0.2161 - accuracy: 0.9842 - val_loss: 0.6308 - val_accuracy: 0.8677 - lr: 1.0000e-04\n",
            "Epoch 3/100\n",
            "45/45 [==============================] - 11s 247ms/step - loss: 0.1945 - accuracy: 0.9924 - val_loss: 0.5533 - val_accuracy: 0.8838 - lr: 1.0000e-04\n",
            "Epoch 4/100\n",
            "45/45 [==============================] - 11s 247ms/step - loss: 0.1872 - accuracy: 0.9958 - val_loss: 0.3444 - val_accuracy: 0.9559 - lr: 1.0000e-04\n",
            "Epoch 5/100\n",
            "45/45 [==============================] - 11s 245ms/step - loss: 0.1885 - accuracy: 0.9949 - val_loss: 0.4098 - val_accuracy: 0.9259 - lr: 1.0000e-04\n",
            "Epoch 6/100\n",
            "45/45 [==============================] - 11s 245ms/step - loss: 0.1980 - accuracy: 0.9920 - val_loss: 0.5462 - val_accuracy: 0.8958 - lr: 1.0000e-04\n",
            "Epoch 7/100\n",
            "45/45 [==============================] - 11s 245ms/step - loss: 0.1910 - accuracy: 0.9940 - val_loss: 0.4719 - val_accuracy: 0.9238 - lr: 1.0000e-04\n",
            "Epoch 8/100\n",
            "35/45 [======================>.......] - ETA: 2s - loss: 0.2050 - accuracy: 0.9880"
          ]
        }
      ],
      "source": [
        "try:\n",
        "    model.load_weights(path_weights)\n",
        "except:\n",
        "    print('mlyaa')\n",
        "#history = model.fit(datagen.flow(xtrain, ytrain, batch_size=100, subset='training'), epochs=100, verbose=1, validation_data=datagen.flow(xtrain, ytrain, batch_size=100, subset='validation'), callbacks=[es, mcp, rop])\n",
        "history = model.fit(xtrain, ytrain, batch_size=100, epochs=100, verbose=1, validation_data=(xtest, ytest), callbacks=[es, mcp, rop])"
      ]
    },
    {
      "cell_type": "code",
      "execution_count": null,
      "metadata": {},
      "outputs": [
        {
          "name": "stdout",
          "output_type": "stream",
          "text": [
            "25/25 [==============================] - 1s 45ms/step - loss: 0.6235 - accuracy: 0.8838\n"
          ]
        },
        {
          "data": {
            "text/plain": [
              "[0.6234748959541321, 0.8837675452232361]"
            ]
          },
          "execution_count": 11,
          "metadata": {},
          "output_type": "execute_result"
        }
      ],
      "source": [
        "model.load_weights(path_weights)\n",
        "model.evaluate(xtrain, ytrain)"
      ]
    },
    {
      "cell_type": "code",
      "execution_count": null,
      "metadata": {},
      "outputs": [
        {
          "data": {
            "text/html": [
              "<div>\n",
              "<style scoped>\n",
              "    .dataframe tbody tr th:only-of-type {\n",
              "        vertical-align: middle;\n",
              "    }\n",
              "\n",
              "    .dataframe tbody tr th {\n",
              "        vertical-align: top;\n",
              "    }\n",
              "\n",
              "    .dataframe thead th {\n",
              "        text-align: right;\n",
              "    }\n",
              "</style>\n",
              "<table border=\"1\" class=\"dataframe\">\n",
              "  <thead>\n",
              "    <tr style=\"text-align: right;\">\n",
              "      <th></th>\n",
              "      <th>ID_img</th>\n",
              "      <th>class</th>\n",
              "    </tr>\n",
              "  </thead>\n",
              "  <tbody>\n",
              "    <tr>\n",
              "      <th>0</th>\n",
              "      <td>0.jpg</td>\n",
              "      <td>0</td>\n",
              "    </tr>\n",
              "    <tr>\n",
              "      <th>1</th>\n",
              "      <td>1.jpg</td>\n",
              "      <td>0</td>\n",
              "    </tr>\n",
              "    <tr>\n",
              "      <th>2</th>\n",
              "      <td>2.jpg</td>\n",
              "      <td>0</td>\n",
              "    </tr>\n",
              "    <tr>\n",
              "      <th>3</th>\n",
              "      <td>3.jpg</td>\n",
              "      <td>0</td>\n",
              "    </tr>\n",
              "    <tr>\n",
              "      <th>4</th>\n",
              "      <td>4.jpg</td>\n",
              "      <td>0</td>\n",
              "    </tr>\n",
              "  </tbody>\n",
              "</table>\n",
              "</div>"
            ],
            "text/plain": [
              "  ID_img  class\n",
              "0  0.jpg      0\n",
              "1  1.jpg      0\n",
              "2  2.jpg      0\n",
              "3  3.jpg      0\n",
              "4  4.jpg      0"
            ]
          },
          "execution_count": 12,
          "metadata": {},
          "output_type": "execute_result"
        }
      ],
      "source": [
        "data = pd.read_csv(PATH_TEST, delimiter=',', header=0)\n",
        "data.head()"
      ]
    },
    {
      "cell_type": "code",
      "execution_count": null,
      "metadata": {},
      "outputs": [],
      "source": [
        "xval = np.array([img_to_array(load_img(os.path.join(DIR_TEST, s), color_mode='rgb', target_size=shape, keep_aspect_ratio=True)) for s in data.ID_img]) / 255."
      ]
    },
    {
      "cell_type": "code",
      "execution_count": null,
      "metadata": {},
      "outputs": [
        {
          "name": "stdout",
          "output_type": "stream",
          "text": [
            "67/67 [==============================] - 2s 27ms/step\n"
          ]
        }
      ],
      "source": [
        "pred = model.predict(xval)\n",
        "pred = [np.argmax(i) for i in pred]"
      ]
    },
    {
      "cell_type": "code",
      "execution_count": null,
      "metadata": {},
      "outputs": [
        {
          "data": {
            "text/html": [
              "<div>\n",
              "<style scoped>\n",
              "    .dataframe tbody tr th:only-of-type {\n",
              "        vertical-align: middle;\n",
              "    }\n",
              "\n",
              "    .dataframe tbody tr th {\n",
              "        vertical-align: top;\n",
              "    }\n",
              "\n",
              "    .dataframe thead th {\n",
              "        text-align: right;\n",
              "    }\n",
              "</style>\n",
              "<table border=\"1\" class=\"dataframe\">\n",
              "  <thead>\n",
              "    <tr style=\"text-align: right;\">\n",
              "      <th></th>\n",
              "      <th>ID_img</th>\n",
              "      <th>class</th>\n",
              "    </tr>\n",
              "  </thead>\n",
              "  <tbody>\n",
              "    <tr>\n",
              "      <th>0</th>\n",
              "      <td>0.jpg</td>\n",
              "      <td>5</td>\n",
              "    </tr>\n",
              "    <tr>\n",
              "      <th>1</th>\n",
              "      <td>1.jpg</td>\n",
              "      <td>7</td>\n",
              "    </tr>\n",
              "    <tr>\n",
              "      <th>2</th>\n",
              "      <td>2.jpg</td>\n",
              "      <td>1</td>\n",
              "    </tr>\n",
              "    <tr>\n",
              "      <th>3</th>\n",
              "      <td>3.jpg</td>\n",
              "      <td>3</td>\n",
              "    </tr>\n",
              "    <tr>\n",
              "      <th>4</th>\n",
              "      <td>4.jpg</td>\n",
              "      <td>6</td>\n",
              "    </tr>\n",
              "    <tr>\n",
              "      <th>5</th>\n",
              "      <td>5.jpg</td>\n",
              "      <td>2</td>\n",
              "    </tr>\n",
              "    <tr>\n",
              "      <th>6</th>\n",
              "      <td>6.jpg</td>\n",
              "      <td>7</td>\n",
              "    </tr>\n",
              "    <tr>\n",
              "      <th>7</th>\n",
              "      <td>7.jpg</td>\n",
              "      <td>4</td>\n",
              "    </tr>\n",
              "    <tr>\n",
              "      <th>8</th>\n",
              "      <td>8.jpg</td>\n",
              "      <td>3</td>\n",
              "    </tr>\n",
              "    <tr>\n",
              "      <th>9</th>\n",
              "      <td>9.jpg</td>\n",
              "      <td>5</td>\n",
              "    </tr>\n",
              "  </tbody>\n",
              "</table>\n",
              "</div>"
            ],
            "text/plain": [
              "  ID_img  class\n",
              "0  0.jpg      5\n",
              "1  1.jpg      7\n",
              "2  2.jpg      1\n",
              "3  3.jpg      3\n",
              "4  4.jpg      6\n",
              "5  5.jpg      2\n",
              "6  6.jpg      7\n",
              "7  7.jpg      4\n",
              "8  8.jpg      3\n",
              "9  9.jpg      5"
            ]
          },
          "execution_count": 15,
          "metadata": {},
          "output_type": "execute_result"
        }
      ],
      "source": [
        "del(data['class'])\n",
        "data['class'] = pred\n",
        "data.head(10)"
      ]
    },
    {
      "cell_type": "code",
      "execution_count": null,
      "metadata": {},
      "outputs": [],
      "source": [
        "data.to_csv('./submit.csv', index=False)"
      ]
    }
  ],
  "metadata": {
    "accelerator": "GPU",
    "colab": {
      "provenance": []
    },
    "kernelspec": {
      "display_name": "Python 3.10.6 64-bit",
      "language": "python",
      "name": "python3"
    },
    "language_info": {
      "codemirror_mode": {
        "name": "ipython",
        "version": 3
      },
      "file_extension": ".py",
      "mimetype": "text/x-python",
      "name": "python",
      "nbconvert_exporter": "python",
      "pygments_lexer": "ipython3",
      "version": "3.10.6"
    },
    "vscode": {
      "interpreter": {
        "hash": "52634da84371cba311ea128a5ea7cdc41ff074b781779e754b270ff9f8153cee"
      }
    }
  },
  "nbformat": 4,
  "nbformat_minor": 0
}
